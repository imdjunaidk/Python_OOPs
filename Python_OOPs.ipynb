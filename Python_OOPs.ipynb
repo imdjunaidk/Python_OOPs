{
  "nbformat": 4,
  "nbformat_minor": 0,
  "metadata": {
    "colab": {
      "provenance": []
    },
    "kernelspec": {
      "name": "python3",
      "display_name": "Python 3"
    },
    "language_info": {
      "name": "python"
    }
  },
  "cells": [
    {
      "cell_type": "markdown",
      "source": [
        "#**Python OOPs**"
      ],
      "metadata": {
        "id": "d8FY1uqskx5i"
      }
    },
    {
      "cell_type": "markdown",
      "source": [
        "1. What is Object-Oriented Programming (OOP)?\n",
        "   --\n",
        "   - OOP is a way of writing programs using classes and objects. It helps in organizing code better and makes it reusable. It has four main ideas: Encapsulation, Abstraction, Inheritance, and Polymorphism.\n",
        "\n",
        "2. What is a class in OOP?\n",
        "   --\n",
        "   - A class is like a blueprint for creating objects. It defines how objects should behave and what data they should have.\n",
        "\n",
        "3. What is an object in OOP?\n",
        "   --\n",
        "   - An object is a real thing made from a class. It has its own values but follows the class rules.\n",
        "\n",
        "4. What is the diference between abstraction and encapsulation?\n",
        "   --\n",
        "   - Abstraction hides unnecessary details and only shows what's needed (like a car's steering wheel, not its engine details).\n",
        "\n",
        "   - Encapsulation wraps data and methods together to keep them safe inside a class.\n",
        "  \n",
        "5. What are dunder methods in Python?\n",
        "   --\n",
        "   - Dunder (double underscore) methods are special methods like __init__, __str__, etc., that Python calls automatically."
      ],
      "metadata": {
        "id": "voL0N_CXmq34"
      }
    },
    {
      "cell_type": "code",
      "execution_count": null,
      "metadata": {
        "colab": {
          "base_uri": "https://localhost:8080/"
        },
        "id": "B21PMoyNkjIe",
        "outputId": "4b24caec-ff2d-4be8-a1dc-bef118a6747b"
      },
      "outputs": [
        {
          "output_type": "stream",
          "name": "stdout",
          "text": [
            "This is an example object\n"
          ]
        }
      ],
      "source": [
        "#For Example\n",
        "class Example:\n",
        "    def __str__(self):\n",
        "        return \"This is an example object\"\n",
        "\n",
        "obj = Example()\n",
        "print(obj)"
      ]
    },
    {
      "cell_type": "markdown",
      "source": [
        "6. Explain the concept of inheritance in OOP.\n",
        "   --\n",
        "   - Inheritance allows a class to get properties and methods from another class.\n",
        "\n",
        "7. What is polymorphism in OOP?\n",
        "   --\n",
        "   - Polymorphism means using the same function in different ways.\n",
        "\n",
        "8. How is encapsulation achieved in Python?\n",
        "   --\n",
        "   - Using private variables (__varname) and providing getter/setter methods.\n",
        "\n",
        "9. What is a constructor in Python?\n",
        "   --\n",
        "   - The __ init__() method that runs automatically when creating an object.\n",
        "\n",
        "10. What are class and static methods in Python?\n",
        "   --\n",
        "   - classmethod → Works with the class, can modify class variables.\n",
        "\n",
        "   - staticmethod → Doesn’t need self or cls, works independently.\n",
        "\n",
        "11. What is method overloading in Python?\n",
        "   --\n",
        "   - Python doesn’t support real method overloading, but we can do it using default arguments."
      ],
      "metadata": {
        "id": "jHj17PgSn2ht"
      }
    },
    {
      "cell_type": "code",
      "source": [
        "#For Example\n",
        "class Example:\n",
        "    def add(self, a, b=0):\n",
        "        return a + b\n",
        "\n",
        "obj = Example()\n",
        "print(obj.add(5))\n",
        "print(obj.add(5, 10))\n"
      ],
      "metadata": {
        "colab": {
          "base_uri": "https://localhost:8080/"
        },
        "id": "O5cbkGmLo8-W",
        "outputId": "faeca0f1-bcdc-49e8-c9fd-d70577fff6aa"
      },
      "execution_count": null,
      "outputs": [
        {
          "output_type": "stream",
          "name": "stdout",
          "text": [
            "5\n",
            "15\n"
          ]
        }
      ]
    },
    {
      "cell_type": "markdown",
      "source": [
        "12. What is method overriding in OOP?\n",
        "   --\n",
        "   - A child class changes the method of the parent class."
      ],
      "metadata": {
        "id": "hcP_HrqjpDDt"
      }
    },
    {
      "cell_type": "code",
      "source": [
        "#For Example\n",
        "class Parent:\n",
        "    def show(self):\n",
        "        print(\"Parent class\")\n",
        "\n",
        "class Child(Parent):\n",
        "    def show(self):\n",
        "        print(\"Child class\")\n",
        "\n",
        "c = Child()\n",
        "c.show()"
      ],
      "metadata": {
        "colab": {
          "base_uri": "https://localhost:8080/"
        },
        "id": "Q33yw_pUpMdo",
        "outputId": "040b8790-89da-45b4-8e40-4cc6fdca25b8"
      },
      "execution_count": null,
      "outputs": [
        {
          "output_type": "stream",
          "name": "stdout",
          "text": [
            "Child class\n"
          ]
        }
      ]
    },
    {
      "cell_type": "markdown",
      "source": [
        "13. What is a property decorator in Python?\n",
        "   --\n",
        "   - @property makes a method act like an attribute."
      ],
      "metadata": {
        "id": "P2Kltl6ApSGt"
      }
    },
    {
      "cell_type": "code",
      "source": [
        "#For Example\n",
        "class Example:\n",
        "    def __init__(self, value):\n",
        "        self._value = value\n",
        "\n",
        "    @property\n",
        "    def value(self):\n",
        "        return self._value\n",
        "\n",
        "obj = Example(10)\n",
        "print(obj.value)"
      ],
      "metadata": {
        "colab": {
          "base_uri": "https://localhost:8080/"
        },
        "id": "qKpQYfWSpaKW",
        "outputId": "53cf7601-5da5-4b9e-96b9-fa1bc757c243"
      },
      "execution_count": null,
      "outputs": [
        {
          "output_type": "stream",
          "name": "stdout",
          "text": [
            "10\n"
          ]
        }
      ]
    },
    {
      "cell_type": "markdown",
      "source": [
        "14. Why is polymorphism important in OOP?\n",
        "   --\n",
        "   - It allows different objects to be used in the same way, making code flexible.\n",
        "\n",
        "15. What is an abstract class in Python?\n",
        "   --\n",
        "   - A class with at least one abstract method (method with no body)."
      ],
      "metadata": {
        "id": "23q4AHuQpgf4"
      }
    },
    {
      "cell_type": "code",
      "source": [
        "#For Example\n",
        "from abc import ABC, abstractmethod\n",
        "\n",
        "class Animal(ABC):\n",
        "    @abstractmethod\n",
        "    def speak(self):\n",
        "        pass"
      ],
      "metadata": {
        "id": "Ml_CD5bZpfl6"
      },
      "execution_count": null,
      "outputs": []
    },
    {
      "cell_type": "markdown",
      "source": [
        "16. What are the advantages of OOP?\n",
        "   --\n",
        "   - Reusability\n",
        "\n",
        "   - Data security (Encapsulation)\n",
        "\n",
        "   - Organized structure\n",
        "\n",
        "17. What is the difference between a class variable and an instance variable?\n",
        "   --\n",
        "   - **Class variable** → Shared across all objects.\n",
        "\n",
        "   - **Instance variable** → Unique to each object.\n",
        "\n",
        "18. What is multiple inheritance in Python?\n",
        "   --\n",
        "   - A class inherits from more than one parent.\n"
      ],
      "metadata": {
        "id": "-DhRz96Cp0-G"
      }
    },
    {
      "cell_type": "code",
      "source": [
        "#For Example\n",
        "class A:\n",
        "    pass\n",
        "class B:\n",
        "    pass\n",
        "class C(A, B):\n",
        "    pass"
      ],
      "metadata": {
        "id": "J39LP1fNqgwW"
      },
      "execution_count": null,
      "outputs": []
    },
    {
      "cell_type": "markdown",
      "source": [
        "19. Explain the purpose of \"__ str __' and ' __ repr __\" methods in Python.\n",
        "   --\n",
        "   - **__ str __** → User-friendly string\n",
        "\n",
        "   - **__ repr __** → Developer-friendly string\n",
        "\n",
        "20. What is the significance of the 'super()’function in Python?\n",
        "   --\n",
        "   - It calls the parent class’s method inside a child class."
      ],
      "metadata": {
        "id": "gQc-ceHqqp63"
      }
    },
    {
      "cell_type": "code",
      "source": [
        "#For Example\n",
        "class Parent:\n",
        "    def show(self):\n",
        "        print(\"Parent class\")\n",
        "\n",
        "class Child(Parent):\n",
        "    def show(self):\n",
        "        super().show()\n",
        "        print(\"Child class\")\n",
        "\n",
        "c = Child()\n",
        "c.show()"
      ],
      "metadata": {
        "colab": {
          "base_uri": "https://localhost:8080/"
        },
        "id": "dsEX0Blcrhg6",
        "outputId": "01d0a8cb-1d6b-4e69-aef4-5f54cd391e62"
      },
      "execution_count": null,
      "outputs": [
        {
          "output_type": "stream",
          "name": "stdout",
          "text": [
            "Parent class\n",
            "Child class\n"
          ]
        }
      ]
    },
    {
      "cell_type": "markdown",
      "source": [
        "21. What is the significance of the __ del__ method in Python?\n",
        "   --\n",
        "   - Called when an object is deleted (like a destructor)."
      ],
      "metadata": {
        "id": "_QA3YbZMrm00"
      }
    },
    {
      "cell_type": "code",
      "source": [
        "#For Example\n",
        "class Example:\n",
        "    def __del__(self):\n",
        "        print(\"Object deleted\")\n",
        "\n",
        "obj = Example()\n",
        "del obj"
      ],
      "metadata": {
        "colab": {
          "base_uri": "https://localhost:8080/"
        },
        "id": "3q2XMudXrxrp",
        "outputId": "4941127b-f84d-46b6-87cf-5137c661a1c6"
      },
      "execution_count": null,
      "outputs": [
        {
          "output_type": "stream",
          "name": "stdout",
          "text": [
            "Object deleted\n"
          ]
        }
      ]
    },
    {
      "cell_type": "markdown",
      "source": [
        "22. What is the difference between @staticmethod and @classmethod in Python?\n",
        "   --\n",
        "   - **@classmethod** → Uses cls and changes class variables.\n",
        "\n",
        "   - **@staticmethod** → Works like a normal function inside a class.\n",
        "\n",
        "23. How does polymorphism work in Python with inheritance?\n",
        "   --\n",
        "   - Child classes redefine methods of parent classes.\n",
        "\n",
        "24. What is method chaining in Python OOP?\n",
        "   --\n",
        "   - It calls multiple methods in one line\n",
        "\n"
      ],
      "metadata": {
        "id": "JfTwuIxvr1xD"
      }
    },
    {
      "cell_type": "code",
      "source": [
        "#For Example\n",
        "class Example:\n",
        "    def first(self):\n",
        "        print(\"First method\")\n",
        "        return self\n",
        "\n",
        "    def second(self):\n",
        "        print(\"Second method\")\n",
        "        return self\n",
        "\n",
        "obj = Example()\n",
        "obj.first().second()"
      ],
      "metadata": {
        "colab": {
          "base_uri": "https://localhost:8080/"
        },
        "id": "IXc3igBRsWUm",
        "outputId": "f33f47b4-600a-4d7c-94ed-b1f85551d442"
      },
      "execution_count": null,
      "outputs": [
        {
          "output_type": "stream",
          "name": "stdout",
          "text": [
            "First method\n",
            "Second method\n"
          ]
        },
        {
          "output_type": "execute_result",
          "data": {
            "text/plain": [
              "<__main__.Example at 0x79fdca867650>"
            ]
          },
          "metadata": {},
          "execution_count": 9
        }
      ]
    },
    {
      "cell_type": "markdown",
      "source": [
        "25. What is the purpose of the __ call __ method in Python?\n",
        "   --\n",
        "   - Makes an object behave like a function.\n"
      ],
      "metadata": {
        "id": "Ycf3cvWFscTm"
      }
    },
    {
      "cell_type": "code",
      "source": [
        "#For Example\n",
        "class Example:\n",
        "    def __call__(self):\n",
        "        print(\"Object called like a function\")\n",
        "\n",
        "obj = Example()\n",
        "obj()"
      ],
      "metadata": {
        "colab": {
          "base_uri": "https://localhost:8080/"
        },
        "id": "c51pn3ajslHF",
        "outputId": "bd1fcf7a-272e-4c3a-e832-a2b028a73b73"
      },
      "execution_count": null,
      "outputs": [
        {
          "output_type": "stream",
          "name": "stdout",
          "text": [
            "Object called like a function\n"
          ]
        }
      ]
    },
    {
      "cell_type": "markdown",
      "source": [
        "##**Practical Questions**"
      ],
      "metadata": {
        "id": "ASSOGygzs1W1"
      }
    },
    {
      "cell_type": "code",
      "source": [
        "#1. Create a parent class Animal with a method speak() that prints a generic message. Create a child class Dog that overrides the speak() method to print \"Bark!\".\n",
        "class Animal:\n",
        "    def speak(self):\n",
        "        print(\"This animal makes a sound.\")\n",
        "\n",
        "class Dog(Animal):\n",
        "    def speak(self):\n",
        "        print(\"Bark!\")"
      ],
      "metadata": {
        "id": "_oGkbmEQnKhD"
      },
      "execution_count": 2,
      "outputs": []
    },
    {
      "cell_type": "code",
      "source": [
        "#2. Write a program to create an abstract class Shape with a method area(). Derive classes Circle and Rectangle from it and implement the area() method in both.\n",
        "from abc import ABC, abstractmethod\n",
        "\n",
        "class Shape(ABC):\n",
        "    @abstractmethod\n",
        "    def area(self):\n",
        "        pass\n",
        "\n",
        "class Circle(Shape):\n",
        "    def __init__(self, radius):\n",
        "        self.radius = radius\n",
        "\n",
        "    def area(self):\n",
        "        return 3.14 * self.radius * self.radius\n",
        "\n",
        "class Rectangle(Shape):\n",
        "    def __init__(self, width, height):\n",
        "        self.width = width\n",
        "        self.height = height\n",
        "\n",
        "    def area(self):\n",
        "        return self.width * self.height\n"
      ],
      "metadata": {
        "id": "XBSkyn2xndF5"
      },
      "execution_count": 3,
      "outputs": []
    },
    {
      "cell_type": "code",
      "source": [
        "#3. Implement a multi-level inheritance scenario where a class Vehicle has an attribute type. Derive a class Car and further derive a class ElectricCar that adds a battery attribute.\n",
        "class Vehicle:\n",
        "    def __init__(self, type):\n",
        "        self.type = type\n",
        "\n",
        "class Car(Vehicle):\n",
        "    def __init__(self, type, brand):\n",
        "        super().__init__(type)\n",
        "        self.brand = brand\n",
        "\n",
        "class ElectricCar(Car):\n",
        "    def __init__(self, type, brand, battery):\n",
        "        super().__init__(type, brand)\n",
        "        self.battery = battery"
      ],
      "metadata": {
        "id": "ytrUeGuWnplN"
      },
      "execution_count": 4,
      "outputs": []
    },
    {
      "cell_type": "code",
      "source": [
        "#4. Demonstrate polymorphism by creating a base class Bird with a method fly(). Create two derived classes Sparrow and Penguin that override the fly() method.\n",
        "class Bird:\n",
        "    def fly(self):\n",
        "        print(\"This bird can fly.\")\n",
        "\n",
        "class Sparrow(Bird):\n",
        "    def fly(self):\n",
        "        print(\"Sparrow flies high.\")\n",
        "\n",
        "class Penguin(Bird):\n",
        "    def fly(self):\n",
        "        print(\"Penguins cannot fly.\")"
      ],
      "metadata": {
        "id": "SvLjY-CInzhC"
      },
      "execution_count": 5,
      "outputs": []
    },
    {
      "cell_type": "code",
      "source": [
        "#5. Write a program to demonstrate encapsulation by creating a class BankAccount with private attributes balance and methods to deposit, withdraw, and check balance.\n",
        "class BankAccount:\n",
        "    def __init__(self, balance=0):\n",
        "        self.__balance = balance\n",
        "\n",
        "    def deposit(self, amount):\n",
        "        self.__balance += amount\n",
        "\n",
        "    def withdraw(self, amount):\n",
        "        if amount <= self.__balance:\n",
        "            self.__balance -= amount\n",
        "        else:\n",
        "            print(\"Insufficient balance!\")\n",
        "\n",
        "    def check_balance(self):\n",
        "        return self.__balance\n"
      ],
      "metadata": {
        "id": "ahDKjyInn465"
      },
      "execution_count": 6,
      "outputs": []
    },
    {
      "cell_type": "code",
      "source": [
        "#6. Demonstrate runtime polymorphism using a method play() in a base class Instrument. Derive classes Guitar and Piano that implement their own version of play().\n",
        "class Instrument:\n",
        "    def play(self):\n",
        "        print(\"Playing an instrument.\")\n",
        "\n",
        "class Guitar(Instrument):\n",
        "    def play(self):\n",
        "        print(\"Playing the guitar.\")\n",
        "\n",
        "class Piano(Instrument):\n",
        "    def play(self):\n",
        "        print(\"Playing the piano.\")"
      ],
      "metadata": {
        "id": "gTQYuAXKoDO6"
      },
      "execution_count": 7,
      "outputs": []
    },
    {
      "cell_type": "code",
      "source": [
        "#7. Create a class MathOperations with a class method add_numbers() to add two numbers and a static method subtract_numbers() to subtract two numbers.\n",
        "class MathOperations:\n",
        "    @classmethod\n",
        "    def add_numbers(cls, a, b):\n",
        "        return a + b\n",
        "\n",
        "    @staticmethod\n",
        "    def subtract_numbers(a, b):\n",
        "        return a - b"
      ],
      "metadata": {
        "id": "P0FmldrzoRMN"
      },
      "execution_count": 8,
      "outputs": []
    },
    {
      "cell_type": "code",
      "source": [
        "#8. Implement a class Person with a class method to count the total number of persons created.\n",
        "class Person:\n",
        "    count = 0\n",
        "\n",
        "    def __init__(self, name, age):\n",
        "        self.name = name\n",
        "        self.age = age\n",
        "        Person.count += 1\n",
        "\n",
        "    @classmethod\n",
        "    def get_person_count(cls):\n",
        "        return cls.count"
      ],
      "metadata": {
        "id": "rHXtVlWxoYFw"
      },
      "execution_count": 9,
      "outputs": []
    },
    {
      "cell_type": "code",
      "source": [
        "#9. Write a class Fraction with attributes numerator and denominator. Override the str method to display the fraction as \"numerator/denominator\".\n",
        "class Fraction:\n",
        "    def __init__(self, numerator, denominator):\n",
        "        self.numerator = numerator\n",
        "        self.denominator = denominator\n",
        "\n",
        "    def __str__(self):\n",
        "        return f\"{self.numerator}/{self.denominator}\""
      ],
      "metadata": {
        "id": "U4GWQ88GoyA8"
      },
      "execution_count": 10,
      "outputs": []
    },
    {
      "cell_type": "code",
      "source": [
        "#10. Demonstrate operator overloading by creating a class Vector and overriding the add method to add two vectors.\n",
        "class Vector:\n",
        "    def __init__(self, x, y):\n",
        "        self.x = x\n",
        "        self.y = y\n",
        "\n",
        "    def __add__(self, other):\n",
        "        return Vector(self.x + other.x, self.y + other.y)\n",
        "\n",
        "    def __str__(self):\n",
        "        return f\"({self.x}, {self.y})\""
      ],
      "metadata": {
        "id": "bsDyVGw5o6BM"
      },
      "execution_count": 11,
      "outputs": []
    },
    {
      "cell_type": "code",
      "source": [
        "#11. Create a class Person with attributes name and age. Add a method greet() that prints \"Hello, my name is {name} and I am {age} years old.\"\n",
        "class Person:\n",
        "    def __init__(self, name, age):\n",
        "        self.name = name\n",
        "        self.age = age\n",
        "\n",
        "    def greet(self):\n",
        "        print(f\"Hello, my name is {self.name} and I am {self.age} years old.\")"
      ],
      "metadata": {
        "id": "1SWiKJfRpCEC"
      },
      "execution_count": 12,
      "outputs": []
    },
    {
      "cell_type": "code",
      "source": [
        "#12. Implement a class Student with attributes name and grades. Create a method average_grade() to compute the average of the grades.\n",
        "class Student:\n",
        "    def __init__(self, name, grades):\n",
        "        self.name = name\n",
        "        self.grades = grades\n",
        "\n",
        "    def average_grade(self):\n",
        "        return sum(self.grades) / len(self.grades)"
      ],
      "metadata": {
        "id": "Wz_atVGrpLE2"
      },
      "execution_count": null,
      "outputs": []
    },
    {
      "cell_type": "code",
      "source": [
        "#13. Create a class Rectangle with methods set_dimensions() to set the dimensions and area() to calculate the area.\n",
        "class Rectangle:\n",
        "    def __init__(self):\n",
        "        self.width = 0\n",
        "        self.height = 0\n",
        "\n",
        "    def set_dimensions(self, width, height):\n",
        "        self.width = width\n",
        "        self.height = height\n",
        "\n",
        "    def area(self):\n",
        "        return self.width * self.height"
      ],
      "metadata": {
        "id": "_ty7N4SqpUmn"
      },
      "execution_count": 13,
      "outputs": []
    },
    {
      "cell_type": "code",
      "source": [
        "#14. Create a class Employee with a method calculate_salary() that computes the salary based on hours worked and hourly rate. Create a derived class Manager that adds a bonus to the salary.\n",
        "class Employee:\n",
        "    def __init__(self, hours_worked, hourly_rate):\n",
        "        self.hours_worked = hours_worked\n",
        "        self.hourly_rate = hourly_rate\n",
        "\n",
        "    def calculate_salary(self):\n",
        "        return self.hours_worked * self.hourly_rate"
      ],
      "metadata": {
        "id": "FNvwFVnApham"
      },
      "execution_count": 14,
      "outputs": []
    },
    {
      "cell_type": "code",
      "source": [
        "#15. Create a class Product with attributes name, price, and quantity. Implement a method total_price() that calculates the total price of the product.\n",
        "class Product:\n",
        "    def __init__(self, name, price, quantity):\n",
        "        self.name = name\n",
        "        self.price = price\n",
        "        self.quantity = quantity\n",
        "\n",
        "    def total_price(self):\n",
        "        return self.price * self.quantity"
      ],
      "metadata": {
        "id": "dx-OkGJypoGJ"
      },
      "execution_count": 16,
      "outputs": []
    },
    {
      "cell_type": "code",
      "source": [
        "#16. Create a class Animal with an abstract method sound(). Create two derived classes Cow and Sheep that implement the sound() method.\n",
        "class Animal(ABC):\n",
        "    @abstractmethod\n",
        "    def sound(self):\n",
        "        pass\n",
        "\n",
        "class Cow(Animal):\n",
        "    def sound(self):\n",
        "        print(\"Moo!\")\n",
        "\n",
        "class Sheep(Animal):\n",
        "    def sound(self):\n",
        "        print(\"Baa!\")"
      ],
      "metadata": {
        "id": "_LSP3fOXpvMA"
      },
      "execution_count": 15,
      "outputs": []
    },
    {
      "cell_type": "code",
      "source": [
        "#17. Create a class Book with attributes title, author, and year_published. Add a method get_book_info() that returns a formatted string with the book's details.\n",
        "class Book:\n",
        "    def __init__(self, title, author, year_published):\n",
        "        self.title = title\n",
        "        self.author = author\n",
        "        self.year_published = year_published\n",
        "\n",
        "    def get_book_info(self):\n",
        "        return f\"{self.title} by {self.author}, published in {self.year_published}\""
      ],
      "metadata": {
        "id": "0O0UFyQCp1zz"
      },
      "execution_count": 18,
      "outputs": []
    },
    {
      "cell_type": "code",
      "source": [
        "#18. Create a class House with attributes address and price. Create a derived class Mansion that adds an attribute number_of_rooms.\n",
        "class House:\n",
        "    def __init__(self, address, price):\n",
        "        self.address = address\n",
        "        self.price = price\n",
        "\n",
        "class Mansion(House):\n",
        "    def __init__(self, address, price, number_of_rooms):\n",
        "        super().__init__(address, price)\n",
        "        self.number_of_rooms = number_of_rooms"
      ],
      "metadata": {
        "id": "jOMfxmpUp8qA"
      },
      "execution_count": 19,
      "outputs": []
    }
  ]
}